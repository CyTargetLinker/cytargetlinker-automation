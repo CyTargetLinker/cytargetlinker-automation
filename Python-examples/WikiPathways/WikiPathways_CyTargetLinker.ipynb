{
 "cells": [
  {
   "cell_type": "markdown",
   "id": "c26dea39",
   "metadata": {},
   "source": [
    "# CyTargetLinker extension of a WikiPathways pathway network"
   ]
  },
  {
   "cell_type": "code",
   "execution_count": 30,
   "id": "18251d49-d316-49af-b865-d1b6fac98292",
   "metadata": {},
   "outputs": [],
   "source": [
    "import pandas as pd\n",
    "import os"
   ]
  },
  {
   "cell_type": "code",
   "execution_count": null,
   "id": "b3b1d14b-675f-4b5a-b543-1825ba3499f0",
   "metadata": {},
   "outputs": [],
   "source": [
    "import py4cytoscape as p4c\n",
    "p4c.cytoscape_ping()\n",
    "p4c.cytoscape_version_info()"
   ]
  },
  {
   "cell_type": "code",
   "execution_count": null,
   "id": "224ec174-c2a7-4ad3-b4ed-60284675c5f3",
   "metadata": {},
   "outputs": [],
   "source": [
    "cmd_list = ['wikipathways','import-as-network','id=WP179']\n",
    "cmd = \" \".join(cmd_list)\n",
    "p4c.commands.commands_get(cmd)"
   ]
  },
  {
   "cell_type": "code",
   "execution_count": null,
   "id": "4cd9b40f",
   "metadata": {},
   "outputs": [],
   "source": [
    "p4c.notebook_export_show_image()"
   ]
  },
  {
   "cell_type": "code",
   "execution_count": null,
   "id": "48f362ce",
   "metadata": {},
   "outputs": [],
   "source": [
    "p4c.install_app('CyTargetLinker')"
   ]
  },
  {
   "cell_type": "code",
   "execution_count": null,
   "id": "fac40bf9",
   "metadata": {},
   "outputs": [],
   "source": [
    "file_path = os.path.join(os.getcwd(), \"wikipathways_hsa_20240410.xgmml\")\n",
    "linkset = \"linkSetFiles=\"+file_path\n",
    "print(linkset)\n",
    "cmd_cytargetlinker = ['cytargetlinker','extend', linkset, 'idAttribute=\"Ensembl\"', 'direction=\"BOTH\"']\n",
    "cmd_ctl = \" \".join(cmd_cytargetlinker)\n",
    "print(cmd_ctl)\n",
    "\n",
    "p4c.commands.commands_get(cmd_ctl)\n"
   ]
  },
  {
   "cell_type": "code",
   "execution_count": null,
   "id": "c05b1050",
   "metadata": {},
   "outputs": [],
   "source": [
    "cmd_cytargetlinker = ['cytargetlinker','applyLayout', 'network=\"current\"']\n",
    "cmd_ctl = \" \".join(cmd_cytargetlinker)\n",
    "p4c.commands.commands_get(cmd_ctl)\n"
   ]
  },
  {
   "cell_type": "code",
   "execution_count": null,
   "id": "e76b4bc4",
   "metadata": {},
   "outputs": [],
   "source": [
    "cmd_cytargetlinker = ['cytargetlinker','applyVisualstyle', 'network=\"current\"']\n",
    "cmd_ctl = \" \".join(cmd_cytargetlinker)\n",
    "p4c.commands.commands_get(cmd_ctl)"
   ]
  },
  {
   "cell_type": "code",
   "execution_count": null,
   "id": "3263299d",
   "metadata": {},
   "outputs": [],
   "source": [
    "p4c.notebook_export_show_image()"
   ]
  }
 ],
 "metadata": {
  "kernelspec": {
   "display_name": "Python 3 (ipykernel)",
   "language": "python",
   "name": "python3"
  },
  "language_info": {
   "codemirror_mode": {
    "name": "ipython",
    "version": 3
   },
   "file_extension": ".py",
   "mimetype": "text/x-python",
   "name": "python",
   "nbconvert_exporter": "python",
   "pygments_lexer": "ipython3",
   "version": "3.12.7"
  }
 },
 "nbformat": 4,
 "nbformat_minor": 5
}
